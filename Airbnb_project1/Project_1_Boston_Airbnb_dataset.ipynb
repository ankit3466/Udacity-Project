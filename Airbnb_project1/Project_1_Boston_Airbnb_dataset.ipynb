{
 "cells": [
  {
   "cell_type": "markdown",
   "metadata": {
    "colab_type": "text",
    "id": "3te38IE-AvNO"
   },
   "source": [
    "# Project 1: Writing a Data Science Blog Post"
   ]
  },
  {
   "cell_type": "markdown",
   "metadata": {
    "colab_type": "text",
    "id": "ygzHOnaqBQbA"
   },
   "source": [
    "##### I chose the Boston Airbnb Dataset to understand:\n",
    "\n",
    "**What areas are the most expensive and busy areas to stay in Boston?**\n",
    "1. Are certain neighborhoods more expensive than others, and by how much?\n",
    "2. Are certain neighborhoods busier at different times of the year?\n",
    "\n",
    "**What makes a great host?** \n",
    "1. How do comments vary depending on the rating quartiles? \n",
    "2. What rating features make a super host?\n",
    "3. What features correlate with higher ratings?\n"
   ]
  },
  {
   "cell_type": "markdown",
   "metadata": {
    "colab_type": "text",
    "id": "imPBTOlCBEJV"
   },
   "source": [
    "## Data Understanding"
   ]
  },
  {
   "cell_type": "markdown",
   "metadata": {
    "colab_type": "text",
    "id": "3-_k_4TsGVQw"
   },
   "source": [
    "### Uploading Data"
   ]
  },
  {
   "cell_type": "code",
   "execution_count": 2,
   "metadata": {
    "colab": {},
    "colab_type": "code",
    "id": "IC4GmkuZFuX7"
   },
   "outputs": [],
   "source": [
    "# loading libraries and set plot parameters\n",
    "import numpy as np\n",
    "import pandas as pd\n",
    "import matplotlib.pyplot as plt\n",
    "import seaborn as sns\n",
    "\n",
    "from sklearn.linear_model import LinearRegression\n",
    "from sklearn.model_selection import train_test_split\n",
    "from sklearn.metrics import r2_score, mean_squared_error\n",
    "\n",
    "from os import path\n",
    "from PIL import Image\n",
    "from wordcloud import WordCloud, STOPWORDS, ImageColorGenerator\n",
    "#from mpl_toolkits.basemap import Basemap\n",
    "\n",
    "%matplotlib inline"
   ]
  },
  {
   "cell_type": "code",
   "execution_count": 0,
   "metadata": {
    "colab": {
     "base_uri": "https://localhost:8080/",
     "height": 35
    },
    "colab_type": "code",
    "id": "l0kjXKNsFvmi",
    "outputId": "afaddb2a-5ccf-4f3f-ba9e-596187c31eee"
   },
   "outputs": [
    {
     "name": "stdout",
     "output_type": "stream",
     "text": [
      "Drive already mounted at /gdrive; to attempt to forcibly remount, call drive.mount(\"/gdrive\", force_remount=True).\n"
     ]
    }
   ],
   "source": [
    "from google.colab import drive\n",
    "drive.mount('/gdrive')"
   ]
  },
  {
   "cell_type": "code",
   "execution_count": 0,
   "metadata": {
    "colab": {},
    "colab_type": "code",
    "id": "rsqZNOJ6F3Zh"
   },
   "outputs": [],
   "source": [
    "# Reading our three dataframes from Kaggle - Boston Airbnb (https://www.kaggle.com/airbnb/boston#listings.csv)\n",
    "\n",
    "df_calendar = pd.read_csv(\"/gdrive/My Drive/Udacity/Project_1/calendar.csv\")\n",
    "df_reviews = pd.read_csv(\"/gdrive/My Drive/Udacity/Project_1/reviews.csv\")\n",
    "df_listing = pd.read_csv(\"/gdrive/My Drive/Udacity/Project_1/listings.csv\")"
   ]
  },
  {
   "cell_type": "markdown",
   "metadata": {
    "colab_type": "text",
    "id": "w38tggayGXRZ"
   },
   "source": [
    "### Exploring Data"
   ]
  },
  {
   "cell_type": "code",
   "execution_count": 0,
   "metadata": {
    "colab": {
     "base_uri": "https://localhost:8080/",
     "height": 604
    },
    "colab_type": "code",
    "id": "B1AKwabsGZZB",
    "outputId": "963dec9f-bdd5-4eac-908f-8368b94fcb1a"
   },
   "outputs": [
    {
     "name": "stdout",
     "output_type": "stream",
     "text": [
      "$150.00      20752\n",
      "$65.00       17518\n",
      "$75.00       16249\n",
      "$100.00      15499\n",
      "$200.00      14326\n",
      "             ...  \n",
      "$1,504.00        1\n",
      "$1,695.00        1\n",
      "$1,312.00        1\n",
      "$1,355.00        1\n",
      "$1,386.00        1\n",
      "Name: price, Length: 1246, dtype: int64\n",
      "f    665853\n",
      "t    643037\n",
      "Name: available, dtype: int64\n",
      "   listing_id        date available price\n",
      "0    12147973  2017-09-05         f   NaN\n",
      "1    12147973  2017-09-04         f   NaN\n",
      "2    12147973  2017-09-03         f   NaN\n",
      "3    12147973  2017-09-02         f   NaN\n",
      "4    12147973  2017-09-01         f   NaN\n",
      "<class 'pandas.core.frame.DataFrame'>\n",
      "RangeIndex: 1308890 entries, 0 to 1308889\n",
      "Data columns (total 4 columns):\n",
      " #   Column      Non-Null Count    Dtype \n",
      "---  ------      --------------    ----- \n",
      " 0   listing_id  1308890 non-null  int64 \n",
      " 1   date        1308890 non-null  object\n",
      " 2   available   1308890 non-null  object\n",
      " 3   price       643037 non-null   object\n",
      "dtypes: int64(1), object(3)\n",
      "memory usage: 39.9+ MB\n",
      "None\n"
     ]
    }
   ],
   "source": [
    "# Exploring the calendar dataframe\n",
    "print(df_calendar.price.value_counts());\n",
    "print(df_calendar.available.value_counts());\n",
    "print(df_calendar.head());\n",
    "print(df_calendar.info())\n",
    "\n",
    "# From this dataframe it will be good to get the listing price"
   ]
  },
  {
   "cell_type": "code",
   "execution_count": 0,
   "metadata": {
    "colab": {
     "base_uri": "https://localhost:8080/",
     "height": 621
    },
    "colab_type": "code",
    "id": "uvUwhPF7GdPF",
    "outputId": "710e1166-3767-4080-9d86-f46e2a4450b4"
   },
   "outputs": [
    {
     "name": "stdout",
     "output_type": "stream",
     "text": [
      "   listing_id  ...                                           comments\n",
      "0     1178162  ...  My stay at islam's place was really cool! Good...\n",
      "1     1178162  ...  Great location for both airport and city - gre...\n",
      "2     1178162  ...  We really enjoyed our stay at Islams house. Fr...\n",
      "3     1178162  ...  The room was nice and clean and so were the co...\n",
      "4     1178162  ...  Great location. Just 5 mins walk from the Airp...\n",
      "\n",
      "[5 rows x 6 columns]\n",
      "<class 'pandas.core.frame.DataFrame'>\n",
      "RangeIndex: 68275 entries, 0 to 68274\n",
      "Data columns (total 6 columns):\n",
      " #   Column         Non-Null Count  Dtype \n",
      "---  ------         --------------  ----- \n",
      " 0   listing_id     68275 non-null  int64 \n",
      " 1   id             68275 non-null  int64 \n",
      " 2   date           68275 non-null  object\n",
      " 3   reviewer_id    68275 non-null  int64 \n",
      " 4   reviewer_name  68275 non-null  object\n",
      " 5   comments       68222 non-null  object\n",
      "dtypes: int64(3), object(3)\n",
      "memory usage: 3.1+ MB\n",
      "None\n",
      "David              654\n",
      "Michael            595\n",
      "John               483\n",
      "Chris              436\n",
      "Sarah              431\n",
      "                  ... \n",
      "Cil                  1\n",
      "Gaowa                1\n",
      "Michael & Scott      1\n",
      "Xuhui                1\n",
      "Tung                 1\n",
      "Name: reviewer_name, Length: 14775, dtype: int64\n"
     ]
    }
   ],
   "source": [
    "# Exploring the reviews dataframe\n",
    "print(df_reviews.head())\n",
    "print(df_reviews.info())\n",
    "print(df_reviews.reviewer_name.value_counts())\n",
    "\n",
    "# It will be interesting to find some comments such as clean, communication, and friendly in comments to check if they correlate with the host ratings"
   ]
  },
  {
   "cell_type": "code",
   "execution_count": 0,
   "metadata": {
    "colab": {
     "base_uri": "https://localhost:8080/",
     "height": 1000
    },
    "colab_type": "code",
    "id": "ad1JbOaeHaap",
    "outputId": "9689a774-c047-4333-bc84-a8bdf5718e42"
   },
   "outputs": [
    {
     "name": "stdout",
     "output_type": "stream",
     "text": [
      "         id  ... reviews_per_month\n",
      "0  12147973  ...               NaN\n",
      "1   3075044  ...              1.30\n",
      "2      6976  ...              0.47\n",
      "3   1436513  ...              1.00\n",
      "4   7651065  ...              2.25\n",
      "\n",
      "[5 rows x 95 columns]\n",
      "<class 'pandas.core.frame.DataFrame'>\n",
      "RangeIndex: 3585 entries, 0 to 3584\n",
      "Data columns (total 95 columns):\n",
      " #   Column                            Non-Null Count  Dtype  \n",
      "---  ------                            --------------  -----  \n",
      " 0   id                                3585 non-null   int64  \n",
      " 1   listing_url                       3585 non-null   object \n",
      " 2   scrape_id                         3585 non-null   int64  \n",
      " 3   last_scraped                      3585 non-null   object \n",
      " 4   name                              3585 non-null   object \n",
      " 5   summary                           3442 non-null   object \n",
      " 6   space                             2528 non-null   object \n",
      " 7   description                       3585 non-null   object \n",
      " 8   experiences_offered               3585 non-null   object \n",
      " 9   neighborhood_overview             2170 non-null   object \n",
      " 10  notes                             1610 non-null   object \n",
      " 11  transit                           2295 non-null   object \n",
      " 12  access                            2096 non-null   object \n",
      " 13  interaction                       2031 non-null   object \n",
      " 14  house_rules                       2393 non-null   object \n",
      " 15  thumbnail_url                     2986 non-null   object \n",
      " 16  medium_url                        2986 non-null   object \n",
      " 17  picture_url                       3585 non-null   object \n",
      " 18  xl_picture_url                    2986 non-null   object \n",
      " 19  host_id                           3585 non-null   int64  \n",
      " 20  host_url                          3585 non-null   object \n",
      " 21  host_name                         3585 non-null   object \n",
      " 22  host_since                        3585 non-null   object \n",
      " 23  host_location                     3574 non-null   object \n",
      " 24  host_about                        2276 non-null   object \n",
      " 25  host_response_time                3114 non-null   object \n",
      " 26  host_response_rate                3114 non-null   object \n",
      " 27  host_acceptance_rate              3114 non-null   object \n",
      " 28  host_is_superhost                 3585 non-null   object \n",
      " 29  host_thumbnail_url                3585 non-null   object \n",
      " 30  host_picture_url                  3585 non-null   object \n",
      " 31  host_neighbourhood                3246 non-null   object \n",
      " 32  host_listings_count               3585 non-null   int64  \n",
      " 33  host_total_listings_count         3585 non-null   int64  \n",
      " 34  host_verifications                3585 non-null   object \n",
      " 35  host_has_profile_pic              3585 non-null   object \n",
      " 36  host_identity_verified            3585 non-null   object \n",
      " 37  street                            3585 non-null   object \n",
      " 38  neighbourhood                     3042 non-null   object \n",
      " 39  neighbourhood_cleansed            3585 non-null   object \n",
      " 40  neighbourhood_group_cleansed      0 non-null      float64\n",
      " 41  city                              3583 non-null   object \n",
      " 42  state                             3585 non-null   object \n",
      " 43  zipcode                           3547 non-null   object \n",
      " 44  market                            3571 non-null   object \n",
      " 45  smart_location                    3585 non-null   object \n",
      " 46  country_code                      3585 non-null   object \n",
      " 47  country                           3585 non-null   object \n",
      " 48  latitude                          3585 non-null   float64\n",
      " 49  longitude                         3585 non-null   float64\n",
      " 50  is_location_exact                 3585 non-null   object \n",
      " 51  property_type                     3582 non-null   object \n",
      " 52  room_type                         3585 non-null   object \n",
      " 53  accommodates                      3585 non-null   int64  \n",
      " 54  bathrooms                         3571 non-null   float64\n",
      " 55  bedrooms                          3575 non-null   float64\n",
      " 56  beds                              3576 non-null   float64\n",
      " 57  bed_type                          3585 non-null   object \n",
      " 58  amenities                         3585 non-null   object \n",
      " 59  square_feet                       56 non-null     float64\n",
      " 60  price                             3585 non-null   object \n",
      " 61  weekly_price                      892 non-null    object \n",
      " 62  monthly_price                     888 non-null    object \n",
      " 63  security_deposit                  1342 non-null   object \n",
      " 64  cleaning_fee                      2478 non-null   object \n",
      " 65  guests_included                   3585 non-null   int64  \n",
      " 66  extra_people                      3585 non-null   object \n",
      " 67  minimum_nights                    3585 non-null   int64  \n",
      " 68  maximum_nights                    3585 non-null   int64  \n",
      " 69  calendar_updated                  3585 non-null   object \n",
      " 70  has_availability                  0 non-null      float64\n",
      " 71  availability_30                   3585 non-null   int64  \n",
      " 72  availability_60                   3585 non-null   int64  \n",
      " 73  availability_90                   3585 non-null   int64  \n",
      " 74  availability_365                  3585 non-null   int64  \n",
      " 75  calendar_last_scraped             3585 non-null   object \n",
      " 76  number_of_reviews                 3585 non-null   int64  \n",
      " 77  first_review                      2829 non-null   object \n",
      " 78  last_review                       2829 non-null   object \n",
      " 79  review_scores_rating              2772 non-null   float64\n",
      " 80  review_scores_accuracy            2762 non-null   float64\n",
      " 81  review_scores_cleanliness         2767 non-null   float64\n",
      " 82  review_scores_checkin             2765 non-null   float64\n",
      " 83  review_scores_communication       2767 non-null   float64\n",
      " 84  review_scores_location            2763 non-null   float64\n",
      " 85  review_scores_value               2764 non-null   float64\n",
      " 86  requires_license                  3585 non-null   object \n",
      " 87  license                           0 non-null      float64\n",
      " 88  jurisdiction_names                0 non-null      float64\n",
      " 89  instant_bookable                  3585 non-null   object \n",
      " 90  cancellation_policy               3585 non-null   object \n",
      " 91  require_guest_profile_picture     3585 non-null   object \n",
      " 92  require_guest_phone_verification  3585 non-null   object \n",
      " 93  calculated_host_listings_count    3585 non-null   int64  \n",
      " 94  reviews_per_month                 2829 non-null   float64\n",
      "dtypes: float64(18), int64(15), object(62)\n",
      "memory usage: 2.6+ MB\n",
      "None\n"
     ]
    }
   ],
   "source": [
    "# Exploring the listings dataframe\n",
    "print(df_listing.head())\n",
    "print(df_listing.info())\n",
    "\n",
    "# From this dataframe I will use: id, host_response_rate, neighbourhood_cleansed, \n",
    "# room_type, price, number_of_reviews, review_scores_rating, review_scores_cleanliness,  \n",
    "# review_scores_communication, review_scores_location"
   ]
  },
  {
   "cell_type": "markdown",
   "metadata": {
    "colab_type": "text",
    "id": "SulAxu6JBMIK"
   },
   "source": [
    "## Data Preparation\n",
    "\n",
    "My next step will be to extract the required columns for my analysis, for each question I will use the following columns.\n",
    "\n",
    "**Boston Area:**\n",
    "* Are certain neighborhoods rated better than others? \n",
    "* Are certain neighborhoods busier at different times of the year?\n",
    "\n",
    "**Host Ratings**\n",
    "* What correlates with better ratings, a private room, full apartment, or shared room?\n",
    " * ID, listing_id, room_type, review_scores_rating\n",
    "* Which features correlate with higher ratings?\n",
    " * ID, listing_id, review_scores_rating, review_scores_accuracy, review_scores_cleanliness, review_scores_communication "
   ]
  },
  {
   "cell_type": "code",
   "execution_count": 0,
   "metadata": {
    "colab": {
     "base_uri": "https://localhost:8080/",
     "height": 1000
    },
    "colab_type": "code",
    "id": "RW_CyTPeQAng",
    "outputId": "3abf8ddf-ff76-48ce-8cb5-e3843f154719"
   },
   "outputs": [
    {
     "name": "stdout",
     "output_type": "stream",
     "text": [
      "<class 'pandas.core.frame.DataFrame'>\n",
      "Int64Index: 1308890 entries, 0 to 1308889\n",
      "Data columns (total 99 columns):\n",
      " #   Column                            Non-Null Count    Dtype  \n",
      "---  ------                            --------------    -----  \n",
      " 0   listing_id                        1308890 non-null  int64  \n",
      " 1   date                              1308890 non-null  object \n",
      " 2   available                         1308890 non-null  object \n",
      " 3   price_x                           643037 non-null   object \n",
      " 4   id                                1308890 non-null  int64  \n",
      " 5   listing_url                       1308890 non-null  object \n",
      " 6   scrape_id                         1308890 non-null  int64  \n",
      " 7   last_scraped                      1308890 non-null  object \n",
      " 8   name                              1308890 non-null  object \n",
      " 9   summary                           1256695 non-null  object \n",
      " 10  space                             922720 non-null   object \n",
      " 11  description                       1308890 non-null  object \n",
      " 12  experiences_offered               1308890 non-null  object \n",
      " 13  neighborhood_overview             792050 non-null   object \n",
      " 14  notes                             588015 non-null   object \n",
      " 15  transit                           837675 non-null   object \n",
      " 16  access                            765040 non-null   object \n",
      " 17  interaction                       741315 non-null   object \n",
      " 18  house_rules                       873810 non-null   object \n",
      " 19  thumbnail_url                     1090255 non-null  object \n",
      " 20  medium_url                        1090255 non-null  object \n",
      " 21  picture_url                       1308890 non-null  object \n",
      " 22  xl_picture_url                    1090255 non-null  object \n",
      " 23  host_id                           1308890 non-null  int64  \n",
      " 24  host_url                          1308890 non-null  object \n",
      " 25  host_name                         1308890 non-null  object \n",
      " 26  host_since                        1308890 non-null  object \n",
      " 27  host_location                     1304875 non-null  object \n",
      " 28  host_about                        831105 non-null   object \n",
      " 29  host_response_time                1136975 non-null  object \n",
      " 30  host_response_rate                1136975 non-null  object \n",
      " 31  host_acceptance_rate              1136975 non-null  object \n",
      " 32  host_is_superhost                 1308890 non-null  object \n",
      " 33  host_thumbnail_url                1308890 non-null  object \n",
      " 34  host_picture_url                  1308890 non-null  object \n",
      " 35  host_neighbourhood                1185155 non-null  object \n",
      " 36  host_listings_count               1308890 non-null  int64  \n",
      " 37  host_total_listings_count         1308890 non-null  int64  \n",
      " 38  host_verifications                1308890 non-null  object \n",
      " 39  host_has_profile_pic              1308890 non-null  object \n",
      " 40  host_identity_verified            1308890 non-null  object \n",
      " 41  street                            1308890 non-null  object \n",
      " 42  neighbourhood                     1110695 non-null  object \n",
      " 43  neighbourhood_cleansed            1308890 non-null  object \n",
      " 44  neighbourhood_group_cleansed      0 non-null        float64\n",
      " 45  city                              1308160 non-null  object \n",
      " 46  state                             1308890 non-null  object \n",
      " 47  zipcode                           1295020 non-null  object \n",
      " 48  market                            1303780 non-null  object \n",
      " 49  smart_location                    1308890 non-null  object \n",
      " 50  country_code                      1308890 non-null  object \n",
      " 51  country                           1308890 non-null  object \n",
      " 52  latitude                          1308890 non-null  float64\n",
      " 53  longitude                         1308890 non-null  float64\n",
      " 54  is_location_exact                 1308890 non-null  object \n",
      " 55  property_type                     1307795 non-null  object \n",
      " 56  room_type                         1308890 non-null  object \n",
      " 57  accommodates                      1308890 non-null  int64  \n",
      " 58  bathrooms                         1303780 non-null  float64\n",
      " 59  bedrooms                          1305240 non-null  float64\n",
      " 60  beds                              1305605 non-null  float64\n",
      " 61  bed_type                          1308890 non-null  object \n",
      " 62  amenities                         1308890 non-null  object \n",
      " 63  square_feet                       20440 non-null    float64\n",
      " 64  price_y                           1308890 non-null  object \n",
      " 65  weekly_price                      325580 non-null   object \n",
      " 66  monthly_price                     324120 non-null   object \n",
      " 67  security_deposit                  489830 non-null   object \n",
      " 68  cleaning_fee                      904470 non-null   object \n",
      " 69  guests_included                   1308890 non-null  int64  \n",
      " 70  extra_people                      1308890 non-null  object \n",
      " 71  minimum_nights                    1308890 non-null  int64  \n",
      " 72  maximum_nights                    1308890 non-null  int64  \n",
      " 73  calendar_updated                  1308890 non-null  object \n",
      " 74  has_availability                  0 non-null        float64\n",
      " 75  availability_30                   1308890 non-null  int64  \n",
      " 76  availability_60                   1308890 non-null  int64  \n",
      " 77  availability_90                   1308890 non-null  int64  \n",
      " 78  availability_365                  1308890 non-null  int64  \n",
      " 79  calendar_last_scraped             1308890 non-null  object \n",
      " 80  number_of_reviews                 1308890 non-null  int64  \n",
      " 81  first_review                      1032585 non-null  object \n",
      " 82  last_review                       1032585 non-null  object \n",
      " 83  review_scores_rating              1011780 non-null  float64\n",
      " 84  review_scores_accuracy            1008130 non-null  float64\n",
      " 85  review_scores_cleanliness         1009955 non-null  float64\n",
      " 86  review_scores_checkin             1009225 non-null  float64\n",
      " 87  review_scores_communication       1009955 non-null  float64\n",
      " 88  review_scores_location            1008495 non-null  float64\n",
      " 89  review_scores_value               1008860 non-null  float64\n",
      " 90  requires_license                  1308890 non-null  object \n",
      " 91  license                           0 non-null        float64\n",
      " 92  jurisdiction_names                0 non-null        float64\n",
      " 93  instant_bookable                  1308890 non-null  object \n",
      " 94  cancellation_policy               1308890 non-null  object \n",
      " 95  require_guest_profile_picture     1308890 non-null  object \n",
      " 96  require_guest_phone_verification  1308890 non-null  object \n",
      " 97  calculated_host_listings_count    1308890 non-null  int64  \n",
      " 98  reviews_per_month                 1032585 non-null  float64\n",
      "dtypes: float64(18), int64(16), object(65)\n",
      "memory usage: 998.6+ MB\n"
     ]
    }
   ],
   "source": [
    "# Making new dataframes, one for the boston area and one for the host ratings\n",
    "\n",
    "# I'm using the boston datframe as well as the listing dataframe values\n",
    "boston_df = df_calendar.merge(df_listing, left_on = 'listing_id',right_on = 'id');\n",
    "boston_df.info();"
   ]
  },
  {
   "cell_type": "code",
   "execution_count": 0,
   "metadata": {
    "colab": {},
    "colab_type": "code",
    "id": "fS130_r5AKAY"
   },
   "outputs": [],
   "source": [
    "boston_df_c = boston_df[['id','date','available','number_of_reviews','review_scores_rating','neighbourhood_cleansed','price_y']];"
   ]
  },
  {
   "cell_type": "code",
   "execution_count": 0,
   "metadata": {
    "colab": {
     "base_uri": "https://localhost:8080/",
     "height": 425
    },
    "colab_type": "code",
    "id": "h7rOIMZCB2w3",
    "outputId": "fe53ffae-fabd-495c-b126-5862a7bc7e60"
   },
   "outputs": [
    {
     "data": {
      "text/html": [
       "<div>\n",
       "<style scoped>\n",
       "    .dataframe tbody tr th:only-of-type {\n",
       "        vertical-align: middle;\n",
       "    }\n",
       "\n",
       "    .dataframe tbody tr th {\n",
       "        vertical-align: top;\n",
       "    }\n",
       "\n",
       "    .dataframe thead th {\n",
       "        text-align: right;\n",
       "    }\n",
       "</style>\n",
       "<table border=\"1\" class=\"dataframe\">\n",
       "  <thead>\n",
       "    <tr style=\"text-align: right;\">\n",
       "      <th></th>\n",
       "      <th>id_x</th>\n",
       "      <th>listing_url</th>\n",
       "      <th>scrape_id</th>\n",
       "      <th>last_scraped</th>\n",
       "      <th>name</th>\n",
       "      <th>summary</th>\n",
       "      <th>space</th>\n",
       "      <th>description</th>\n",
       "      <th>experiences_offered</th>\n",
       "      <th>neighborhood_overview</th>\n",
       "      <th>notes</th>\n",
       "      <th>transit</th>\n",
       "      <th>access</th>\n",
       "      <th>interaction</th>\n",
       "      <th>house_rules</th>\n",
       "      <th>thumbnail_url</th>\n",
       "      <th>medium_url</th>\n",
       "      <th>picture_url</th>\n",
       "      <th>xl_picture_url</th>\n",
       "      <th>host_id</th>\n",
       "      <th>host_url</th>\n",
       "      <th>host_name</th>\n",
       "      <th>host_since</th>\n",
       "      <th>host_location</th>\n",
       "      <th>host_about</th>\n",
       "      <th>host_response_time</th>\n",
       "      <th>host_response_rate</th>\n",
       "      <th>host_acceptance_rate</th>\n",
       "      <th>host_is_superhost</th>\n",
       "      <th>host_thumbnail_url</th>\n",
       "      <th>host_picture_url</th>\n",
       "      <th>host_neighbourhood</th>\n",
       "      <th>host_listings_count</th>\n",
       "      <th>host_total_listings_count</th>\n",
       "      <th>host_verifications</th>\n",
       "      <th>host_has_profile_pic</th>\n",
       "      <th>host_identity_verified</th>\n",
       "      <th>street</th>\n",
       "      <th>neighbourhood</th>\n",
       "      <th>neighbourhood_cleansed</th>\n",
       "      <th>...</th>\n",
       "      <th>weekly_price</th>\n",
       "      <th>monthly_price</th>\n",
       "      <th>security_deposit</th>\n",
       "      <th>cleaning_fee</th>\n",
       "      <th>guests_included</th>\n",
       "      <th>extra_people</th>\n",
       "      <th>minimum_nights</th>\n",
       "      <th>maximum_nights</th>\n",
       "      <th>calendar_updated</th>\n",
       "      <th>has_availability</th>\n",
       "      <th>availability_30</th>\n",
       "      <th>availability_60</th>\n",
       "      <th>availability_90</th>\n",
       "      <th>availability_365</th>\n",
       "      <th>calendar_last_scraped</th>\n",
       "      <th>number_of_reviews</th>\n",
       "      <th>first_review</th>\n",
       "      <th>last_review</th>\n",
       "      <th>review_scores_rating</th>\n",
       "      <th>review_scores_accuracy</th>\n",
       "      <th>review_scores_cleanliness</th>\n",
       "      <th>review_scores_checkin</th>\n",
       "      <th>review_scores_communication</th>\n",
       "      <th>review_scores_location</th>\n",
       "      <th>review_scores_value</th>\n",
       "      <th>requires_license</th>\n",
       "      <th>license</th>\n",
       "      <th>jurisdiction_names</th>\n",
       "      <th>instant_bookable</th>\n",
       "      <th>cancellation_policy</th>\n",
       "      <th>require_guest_profile_picture</th>\n",
       "      <th>require_guest_phone_verification</th>\n",
       "      <th>calculated_host_listings_count</th>\n",
       "      <th>reviews_per_month</th>\n",
       "      <th>listing_id</th>\n",
       "      <th>id_y</th>\n",
       "      <th>date</th>\n",
       "      <th>reviewer_id</th>\n",
       "      <th>reviewer_name</th>\n",
       "      <th>comments</th>\n",
       "    </tr>\n",
       "  </thead>\n",
       "  <tbody>\n",
       "    <tr>\n",
       "      <th>0</th>\n",
       "      <td>3075044</td>\n",
       "      <td>https://www.airbnb.com/rooms/3075044</td>\n",
       "      <td>20160906204935</td>\n",
       "      <td>2016-09-07</td>\n",
       "      <td>Charming room in pet friendly apt</td>\n",
       "      <td>Charming and quiet room in a second floor 1910...</td>\n",
       "      <td>Small but cozy and quite room with a full size...</td>\n",
       "      <td>Charming and quiet room in a second floor 1910...</td>\n",
       "      <td>none</td>\n",
       "      <td>The room is in Roslindale, a diverse and prima...</td>\n",
       "      <td>If you don't have a US cell phone, you can tex...</td>\n",
       "      <td>Plenty of safe street parking. Bus stops a few...</td>\n",
       "      <td>Apt has one more bedroom (which I use) and lar...</td>\n",
       "      <td>If I am at home, I am likely working in my hom...</td>\n",
       "      <td>Pet friendly but please confirm with me if the...</td>\n",
       "      <td>https://a1.muscache.com/im/pictures/39327812/d...</td>\n",
       "      <td>https://a1.muscache.com/im/pictures/39327812/d...</td>\n",
       "      <td>https://a1.muscache.com/im/pictures/39327812/d...</td>\n",
       "      <td>https://a1.muscache.com/im/pictures/39327812/d...</td>\n",
       "      <td>2572247</td>\n",
       "      <td>https://www.airbnb.com/users/show/2572247</td>\n",
       "      <td>Andrea</td>\n",
       "      <td>2012-06-07</td>\n",
       "      <td>Boston, Massachusetts, United States</td>\n",
       "      <td>I live in Boston and I like to travel and have...</td>\n",
       "      <td>within an hour</td>\n",
       "      <td>100%</td>\n",
       "      <td>100%</td>\n",
       "      <td>f</td>\n",
       "      <td>https://a2.muscache.com/im/users/2572247/profi...</td>\n",
       "      <td>https://a2.muscache.com/im/users/2572247/profi...</td>\n",
       "      <td>Roslindale</td>\n",
       "      <td>1</td>\n",
       "      <td>1</td>\n",
       "      <td>['email', 'phone', 'facebook', 'linkedin', 'am...</td>\n",
       "      <td>t</td>\n",
       "      <td>t</td>\n",
       "      <td>Pinehurst Street, Boston, MA 02131, United States</td>\n",
       "      <td>Roslindale</td>\n",
       "      <td>Roslindale</td>\n",
       "      <td>...</td>\n",
       "      <td>$400.00</td>\n",
       "      <td>NaN</td>\n",
       "      <td>$95.00</td>\n",
       "      <td>$10.00</td>\n",
       "      <td>0</td>\n",
       "      <td>$0.00</td>\n",
       "      <td>2</td>\n",
       "      <td>15</td>\n",
       "      <td>a week ago</td>\n",
       "      <td>NaN</td>\n",
       "      <td>26</td>\n",
       "      <td>54</td>\n",
       "      <td>84</td>\n",
       "      <td>359</td>\n",
       "      <td>2016-09-06</td>\n",
       "      <td>36</td>\n",
       "      <td>2014-06-01</td>\n",
       "      <td>2016-08-13</td>\n",
       "      <td>94.0</td>\n",
       "      <td>10.0</td>\n",
       "      <td>9.0</td>\n",
       "      <td>10.0</td>\n",
       "      <td>10.0</td>\n",
       "      <td>9.0</td>\n",
       "      <td>9.0</td>\n",
       "      <td>f</td>\n",
       "      <td>NaN</td>\n",
       "      <td>NaN</td>\n",
       "      <td>t</td>\n",
       "      <td>moderate</td>\n",
       "      <td>f</td>\n",
       "      <td>f</td>\n",
       "      <td>1</td>\n",
       "      <td>1.3</td>\n",
       "      <td>3075044</td>\n",
       "      <td>13631717</td>\n",
       "      <td>2014-06-01</td>\n",
       "      <td>9645972</td>\n",
       "      <td>Dmitrii</td>\n",
       "      <td>Andrea is a great host. Neighborhood is wonder...</td>\n",
       "    </tr>\n",
       "    <tr>\n",
       "      <th>1</th>\n",
       "      <td>3075044</td>\n",
       "      <td>https://www.airbnb.com/rooms/3075044</td>\n",
       "      <td>20160906204935</td>\n",
       "      <td>2016-09-07</td>\n",
       "      <td>Charming room in pet friendly apt</td>\n",
       "      <td>Charming and quiet room in a second floor 1910...</td>\n",
       "      <td>Small but cozy and quite room with a full size...</td>\n",
       "      <td>Charming and quiet room in a second floor 1910...</td>\n",
       "      <td>none</td>\n",
       "      <td>The room is in Roslindale, a diverse and prima...</td>\n",
       "      <td>If you don't have a US cell phone, you can tex...</td>\n",
       "      <td>Plenty of safe street parking. Bus stops a few...</td>\n",
       "      <td>Apt has one more bedroom (which I use) and lar...</td>\n",
       "      <td>If I am at home, I am likely working in my hom...</td>\n",
       "      <td>Pet friendly but please confirm with me if the...</td>\n",
       "      <td>https://a1.muscache.com/im/pictures/39327812/d...</td>\n",
       "      <td>https://a1.muscache.com/im/pictures/39327812/d...</td>\n",
       "      <td>https://a1.muscache.com/im/pictures/39327812/d...</td>\n",
       "      <td>https://a1.muscache.com/im/pictures/39327812/d...</td>\n",
       "      <td>2572247</td>\n",
       "      <td>https://www.airbnb.com/users/show/2572247</td>\n",
       "      <td>Andrea</td>\n",
       "      <td>2012-06-07</td>\n",
       "      <td>Boston, Massachusetts, United States</td>\n",
       "      <td>I live in Boston and I like to travel and have...</td>\n",
       "      <td>within an hour</td>\n",
       "      <td>100%</td>\n",
       "      <td>100%</td>\n",
       "      <td>f</td>\n",
       "      <td>https://a2.muscache.com/im/users/2572247/profi...</td>\n",
       "      <td>https://a2.muscache.com/im/users/2572247/profi...</td>\n",
       "      <td>Roslindale</td>\n",
       "      <td>1</td>\n",
       "      <td>1</td>\n",
       "      <td>['email', 'phone', 'facebook', 'linkedin', 'am...</td>\n",
       "      <td>t</td>\n",
       "      <td>t</td>\n",
       "      <td>Pinehurst Street, Boston, MA 02131, United States</td>\n",
       "      <td>Roslindale</td>\n",
       "      <td>Roslindale</td>\n",
       "      <td>...</td>\n",
       "      <td>$400.00</td>\n",
       "      <td>NaN</td>\n",
       "      <td>$95.00</td>\n",
       "      <td>$10.00</td>\n",
       "      <td>0</td>\n",
       "      <td>$0.00</td>\n",
       "      <td>2</td>\n",
       "      <td>15</td>\n",
       "      <td>a week ago</td>\n",
       "      <td>NaN</td>\n",
       "      <td>26</td>\n",
       "      <td>54</td>\n",
       "      <td>84</td>\n",
       "      <td>359</td>\n",
       "      <td>2016-09-06</td>\n",
       "      <td>36</td>\n",
       "      <td>2014-06-01</td>\n",
       "      <td>2016-08-13</td>\n",
       "      <td>94.0</td>\n",
       "      <td>10.0</td>\n",
       "      <td>9.0</td>\n",
       "      <td>10.0</td>\n",
       "      <td>10.0</td>\n",
       "      <td>9.0</td>\n",
       "      <td>9.0</td>\n",
       "      <td>f</td>\n",
       "      <td>NaN</td>\n",
       "      <td>NaN</td>\n",
       "      <td>t</td>\n",
       "      <td>moderate</td>\n",
       "      <td>f</td>\n",
       "      <td>f</td>\n",
       "      <td>1</td>\n",
       "      <td>1.3</td>\n",
       "      <td>3075044</td>\n",
       "      <td>13866662</td>\n",
       "      <td>2014-06-06</td>\n",
       "      <td>12020681</td>\n",
       "      <td>Paola</td>\n",
       "      <td>We had a great time at Andrea's place. He is v...</td>\n",
       "    </tr>\n",
       "  </tbody>\n",
       "</table>\n",
       "<p>2 rows × 101 columns</p>\n",
       "</div>"
      ],
      "text/plain": [
       "      id_x  ...                                           comments\n",
       "0  3075044  ...  Andrea is a great host. Neighborhood is wonder...\n",
       "1  3075044  ...  We had a great time at Andrea's place. He is v...\n",
       "\n",
       "[2 rows x 101 columns]"
      ]
     },
     "execution_count": 14,
     "metadata": {
      "tags": []
     },
     "output_type": "execute_result"
    }
   ],
   "source": [
    "# Making the host review dataframe\n",
    "\n",
    "hosts_df = df_listing.merge(df_reviews, left_on = 'id',right_on = 'listing_id')\n",
    "hosts_df.head(2)"
   ]
  },
  {
   "cell_type": "code",
   "execution_count": 0,
   "metadata": {
    "colab": {},
    "colab_type": "code",
    "id": "2DEskxTpDLj1"
   },
   "outputs": [],
   "source": [
    "# Cleaning to just use the columns we will need in our analysis\n",
    "hosts_df_c = hosts_df[['listing_id','neighbourhood_cleansed','price','experiences_offered','host_since','host_is_superhost','calculated_host_listings_count','comments','host_response_time','host_response_rate','number_of_reviews','review_scores_rating','review_scores_accuracy','review_scores_cleanliness','review_scores_communication','review_scores_location',\n",
    "'review_scores_checkin','review_scores_value']]"
   ]
  },
  {
   "cell_type": "markdown",
   "metadata": {
    "colab_type": "text",
    "id": "nYidhsNuF1fk"
   },
   "source": [
    "Now that we've extracted the two dataframes for our analysis we need to clean NaN values and prepare our data for each question."
   ]
  },
  {
   "cell_type": "code",
   "execution_count": 0,
   "metadata": {
    "colab": {
     "base_uri": "https://localhost:8080/",
     "height": 266
    },
    "colab_type": "code",
    "id": "PakwXmK3F9hq",
    "outputId": "3bec596c-bcd8-4f4a-bad8-14ebf0b00c64"
   },
   "outputs": [
    {
     "name": "stdout",
     "output_type": "stream",
     "text": [
      "<class 'pandas.core.frame.DataFrame'>\n",
      "Int64Index: 1011780 entries, 365 to 1308524\n",
      "Data columns (total 7 columns):\n",
      " #   Column                  Non-Null Count    Dtype  \n",
      "---  ------                  --------------    -----  \n",
      " 0   id                      1011780 non-null  int64  \n",
      " 1   date                    1011780 non-null  object \n",
      " 2   available               1011780 non-null  object \n",
      " 3   number_of_reviews       1011780 non-null  int64  \n",
      " 4   review_scores_rating    1011780 non-null  float64\n",
      " 5   neighbourhood_cleansed  1011780 non-null  object \n",
      " 6   price_y                 1011780 non-null  object \n",
      "dtypes: float64(1), int64(2), object(4)\n",
      "memory usage: 61.8+ MB\n"
     ]
    }
   ],
   "source": [
    "# Cleaning NaN values from the Boston dataframe\n",
    "boston_df_c = boston_df_c.dropna(how = 'any', subset= ['review_scores_rating'])\n",
    "boston_df_c.info()"
   ]
  },
  {
   "cell_type": "code",
   "execution_count": 0,
   "metadata": {
    "colab": {
     "base_uri": "https://localhost:8080/",
     "height": 461
    },
    "colab_type": "code",
    "id": "5E93k1INMbRI",
    "outputId": "e913677c-0b74-4f43-d37d-75bfff2d5875"
   },
   "outputs": [
    {
     "name": "stdout",
     "output_type": "stream",
     "text": [
      "<class 'pandas.core.frame.DataFrame'>\n",
      "Int64Index: 67051 entries, 0 to 68274\n",
      "Data columns (total 18 columns):\n",
      " #   Column                          Non-Null Count  Dtype  \n",
      "---  ------                          --------------  -----  \n",
      " 0   listing_id                      67051 non-null  int64  \n",
      " 1   neighbourhood_cleansed          67051 non-null  object \n",
      " 2   price                           67051 non-null  object \n",
      " 3   experiences_offered             67051 non-null  object \n",
      " 4   host_since                      67051 non-null  object \n",
      " 5   host_is_superhost               67051 non-null  object \n",
      " 6   calculated_host_listings_count  67051 non-null  int64  \n",
      " 7   comments                        67051 non-null  object \n",
      " 8   host_response_time              67051 non-null  object \n",
      " 9   host_response_rate              67051 non-null  object \n",
      " 10  number_of_reviews               67051 non-null  int64  \n",
      " 11  review_scores_rating            67051 non-null  float64\n",
      " 12  review_scores_accuracy          67051 non-null  float64\n",
      " 13  review_scores_cleanliness       67051 non-null  float64\n",
      " 14  review_scores_communication     67051 non-null  float64\n",
      " 15  review_scores_location          67051 non-null  float64\n",
      " 16  review_scores_checkin           67051 non-null  float64\n",
      " 17  review_scores_value             67051 non-null  float64\n",
      "dtypes: float64(7), int64(3), object(8)\n",
      "memory usage: 9.7+ MB\n"
     ]
    }
   ],
   "source": [
    "# Cleaning NaN values from the Hosts dataframe\n",
    "hosts_df_c = hosts_df_c.dropna(how = 'any', subset= ['price','calculated_host_listings_count','host_response_time','host_response_rate','comments','review_scores_rating','review_scores_accuracy','review_scores_cleanliness','review_scores_communication','review_scores_location','review_scores_value'])\n",
    "hosts_df_c.info()"
   ]
  },
  {
   "cell_type": "markdown",
   "metadata": {
    "colab_type": "text",
    "id": "5G-dlJ5mBbYE"
   },
   "source": [
    "## Modeling"
   ]
  },
  {
   "cell_type": "code",
   "execution_count": 0,
   "metadata": {
    "colab": {
     "base_uri": "https://localhost:8080/",
     "height": 372
    },
    "colab_type": "code",
    "id": "q4Wbl0kbSorc",
    "outputId": "0db104fb-5648-4d57-c1d0-61a4eeec01d3"
   },
   "outputs": [
    {
     "name": "stdout",
     "output_type": "stream",
     "text": [
      "<class 'pandas.core.frame.DataFrame'>\n",
      "Int64Index: 1011780 entries, 365 to 1308524\n",
      "Data columns (total 7 columns):\n",
      " #   Column                  Non-Null Count    Dtype  \n",
      "---  ------                  --------------    -----  \n",
      " 0   id                      1011780 non-null  int64  \n",
      " 1   date                    1011780 non-null  object \n",
      " 2   available               1011780 non-null  object \n",
      " 3   number_of_reviews       1011780 non-null  int64  \n",
      " 4   review_scores_rating    1011780 non-null  float64\n",
      " 5   neighbourhood_cleansed  1011780 non-null  object \n",
      " 6   price_y                 1011780 non-null  object \n",
      "dtypes: float64(1), int64(2), object(4)\n",
      "memory usage: 61.8+ MB\n"
     ]
    },
    {
     "data": {
      "text/plain": [
       "365    $65.00\n",
       "366    $65.00\n",
       "367    $65.00\n",
       "368    $65.00\n",
       "369    $65.00\n",
       "Name: price_y, dtype: object"
      ]
     },
     "execution_count": 18,
     "metadata": {
      "tags": []
     },
     "output_type": "execute_result"
    }
   ],
   "source": [
    "#Exploring the Boston dataframe\n",
    "boston_df_c.info()\n",
    "boston_df_c.price_y.head()"
   ]
  },
  {
   "cell_type": "code",
   "execution_count": 0,
   "metadata": {
    "colab": {
     "base_uri": "https://localhost:8080/",
     "height": 230
    },
    "colab_type": "code",
    "id": "yN5AqGPxTq1b",
    "outputId": "327d1ad3-6092-4dbd-b720-f9f0aa94743b"
   },
   "outputs": [
    {
     "data": {
      "text/plain": [
       "365        65.0\n",
       "366        65.0\n",
       "367        65.0\n",
       "368        65.0\n",
       "369        65.0\n",
       "           ... \n",
       "1308520    65.0\n",
       "1308521    65.0\n",
       "1308522    65.0\n",
       "1308523    65.0\n",
       "1308524    65.0\n",
       "Name: price_y, Length: 1011780, dtype: float64"
      ]
     },
     "execution_count": 19,
     "metadata": {
      "tags": []
     },
     "output_type": "execute_result"
    }
   ],
   "source": [
    "# Converting price_y column to float\n",
    "boston_df_c['price_y'] = boston_df_c['price_y'].replace('[\\$,]','', regex=True).astype(float)\n",
    "boston_df_c.price_y"
   ]
  },
  {
   "cell_type": "markdown",
   "metadata": {
    "colab_type": "text",
    "id": "bfUVk8itabh6"
   },
   "source": [
    "#### Are certain neighborhoods more expensive than others, and by how much?"
   ]
  },
  {
   "cell_type": "code",
   "execution_count": 0,
   "metadata": {
    "colab": {
     "base_uri": "https://localhost:8080/",
     "height": 551
    },
    "colab_type": "code",
    "id": "EEOTS2KwBey5",
    "outputId": "0b32cad0-560f-4699-8ebb-139010e0d26d"
   },
   "outputs": [
    {
     "data": {
      "image/png": "[encoded data removed]",
      "text/plain": [
       "<Figure size 936x648 with 2 Axes>"
      ]
     },
     "metadata": {
      "tags": []
     },
     "output_type": "display_data"
    }
   ],
   "source": [
    "nb_rating = boston_df_c.groupby('neighbourhood_cleansed', as_index = False).agg({'price_y':'mean','number_of_reviews':'sum','id':pd.Series.nunique})\n",
    "nb_rating = nb_rating.sort_values('price_y',ascending= False)\n",
    "\n",
    "#Graphing the results for most expensive neighborhoods\n",
    "sns.set_style(\"dark\")\n",
    "\n",
    "plt.figure(figsize=(13, 9))\n",
    "\n",
    "plt.subplot(121)\n",
    "sns.barplot(y = 'neighbourhood_cleansed', x = 'price_y', data = nb_rating)\n",
    "plt.xlabel('Average Price ($)')\n",
    "plt.ylabel('Neigbourhood Name')\n",
    "\n",
    "plt.subplot(122)\n",
    "sns.barplot(y = 'neighbourhood_cleansed', x = 'id', data = nb_rating)\n",
    "plt.xlabel('Number of Listings')\n",
    "plt.ylabel('')\n",
    "plt.yticks([])\n",
    "\n",
    "plt.savefig('boston_neighbourhood_price_listings.png')\n",
    "plt.show()"
   ]
  },
  {
   "cell_type": "markdown",
   "metadata": {
    "colab_type": "text",
    "id": "4zDEnt5uaflh"
   },
   "source": [
    "#### Are certain neighborhoods busier at different times of the year?"
   ]
  },
  {
   "cell_type": "code",
   "execution_count": 0,
   "metadata": {
    "colab": {
     "base_uri": "https://localhost:8080/",
     "height": 194
    },
    "colab_type": "code",
    "id": "tTNOha6-b2JT",
    "outputId": "2f626509-5df0-41bd-a71e-4d406067b332"
   },
   "outputs": [
    {
     "data": {
      "text/html": [
       "<div>\n",
       "<style scoped>\n",
       "    .dataframe tbody tr th:only-of-type {\n",
       "        vertical-align: middle;\n",
       "    }\n",
       "\n",
       "    .dataframe tbody tr th {\n",
       "        vertical-align: top;\n",
       "    }\n",
       "\n",
       "    .dataframe thead th {\n",
       "        text-align: right;\n",
       "    }\n",
       "</style>\n",
       "<table border=\"1\" class=\"dataframe\">\n",
       "  <thead>\n",
       "    <tr style=\"text-align: right;\">\n",
       "      <th></th>\n",
       "      <th>id</th>\n",
       "      <th>date</th>\n",
       "      <th>available</th>\n",
       "      <th>number_of_reviews</th>\n",
       "      <th>review_scores_rating</th>\n",
       "      <th>neighbourhood_cleansed</th>\n",
       "      <th>price_y</th>\n",
       "    </tr>\n",
       "  </thead>\n",
       "  <tbody>\n",
       "    <tr>\n",
       "      <th>365</th>\n",
       "      <td>3075044</td>\n",
       "      <td>2017-08-22</td>\n",
       "      <td>t</td>\n",
       "      <td>36</td>\n",
       "      <td>94.0</td>\n",
       "      <td>Roslindale</td>\n",
       "      <td>65.0</td>\n",
       "    </tr>\n",
       "    <tr>\n",
       "      <th>366</th>\n",
       "      <td>3075044</td>\n",
       "      <td>2017-08-21</td>\n",
       "      <td>t</td>\n",
       "      <td>36</td>\n",
       "      <td>94.0</td>\n",
       "      <td>Roslindale</td>\n",
       "      <td>65.0</td>\n",
       "    </tr>\n",
       "    <tr>\n",
       "      <th>367</th>\n",
       "      <td>3075044</td>\n",
       "      <td>2017-08-20</td>\n",
       "      <td>t</td>\n",
       "      <td>36</td>\n",
       "      <td>94.0</td>\n",
       "      <td>Roslindale</td>\n",
       "      <td>65.0</td>\n",
       "    </tr>\n",
       "    <tr>\n",
       "      <th>368</th>\n",
       "      <td>3075044</td>\n",
       "      <td>2017-08-19</td>\n",
       "      <td>t</td>\n",
       "      <td>36</td>\n",
       "      <td>94.0</td>\n",
       "      <td>Roslindale</td>\n",
       "      <td>65.0</td>\n",
       "    </tr>\n",
       "    <tr>\n",
       "      <th>369</th>\n",
       "      <td>3075044</td>\n",
       "      <td>2017-08-18</td>\n",
       "      <td>t</td>\n",
       "      <td>36</td>\n",
       "      <td>94.0</td>\n",
       "      <td>Roslindale</td>\n",
       "      <td>65.0</td>\n",
       "    </tr>\n",
       "  </tbody>\n",
       "</table>\n",
       "</div>"
      ],
      "text/plain": [
       "          id        date  ... neighbourhood_cleansed  price_y\n",
       "365  3075044  2017-08-22  ...             Roslindale     65.0\n",
       "366  3075044  2017-08-21  ...             Roslindale     65.0\n",
       "367  3075044  2017-08-20  ...             Roslindale     65.0\n",
       "368  3075044  2017-08-19  ...             Roslindale     65.0\n",
       "369  3075044  2017-08-18  ...             Roslindale     65.0\n",
       "\n",
       "[5 rows x 7 columns]"
      ]
     },
     "execution_count": 21,
     "metadata": {
      "tags": []
     },
     "output_type": "execute_result"
    }
   ],
   "source": [
    "# To answer this question, for each month, I want to get a list of the percentage of listings available by neighborhood.\n",
    "boston_df_c.head()\n",
    "\n",
    "# % Availability Calculation:\n",
    "# For all listings, we take availability = t as 1 and availability = f as 0.\n",
    "# Then we get the sum of T's which gives us the total days available for a listing\n",
    "# and divide it by the count of 1's and 0's (total days for which the listing was posted)\n",
    "# This gives us the percentage of availability for that listing"
   ]
  },
  {
   "cell_type": "code",
   "execution_count": 0,
   "metadata": {
    "colab": {
     "base_uri": "https://localhost:8080/",
     "height": 428
    },
    "colab_type": "code",
    "id": "Gw8ybzdjZVlp",
    "outputId": "c3c5baa4-f394-4cfd-ee59-0c04b3cc7c04"
   },
   "outputs": [
    {
     "data": {
      "text/html": [
       "<div>\n",
       "<style scoped>\n",
       "    .dataframe tbody tr th:only-of-type {\n",
       "        vertical-align: middle;\n",
       "    }\n",
       "\n",
       "    .dataframe tbody tr th {\n",
       "        vertical-align: top;\n",
       "    }\n",
       "\n",
       "    .dataframe thead th {\n",
       "        text-align: right;\n",
       "    }\n",
       "</style>\n",
       "<table border=\"1\" class=\"dataframe\">\n",
       "  <thead>\n",
       "    <tr style=\"text-align: right;\">\n",
       "      <th></th>\n",
       "      <th></th>\n",
       "      <th>date</th>\n",
       "      <th>available</th>\n",
       "      <th>number_of_reviews</th>\n",
       "      <th>review_scores_rating</th>\n",
       "      <th>price_y</th>\n",
       "    </tr>\n",
       "    <tr>\n",
       "      <th>neighbourhood_cleansed</th>\n",
       "      <th>id</th>\n",
       "      <th></th>\n",
       "      <th></th>\n",
       "      <th></th>\n",
       "      <th></th>\n",
       "      <th></th>\n",
       "    </tr>\n",
       "  </thead>\n",
       "  <tbody>\n",
       "    <tr>\n",
       "      <th>Mission Hill</th>\n",
       "      <th>66288</th>\n",
       "      <td>2017-01-31</td>\n",
       "      <td>t</td>\n",
       "      <td>404</td>\n",
       "      <td>78.0</td>\n",
       "      <td>75.0</td>\n",
       "    </tr>\n",
       "    <tr>\n",
       "      <th>East Boston</th>\n",
       "      <th>1497879</th>\n",
       "      <td>2017-01-31</td>\n",
       "      <td>t</td>\n",
       "      <td>320</td>\n",
       "      <td>88.0</td>\n",
       "      <td>89.0</td>\n",
       "    </tr>\n",
       "    <tr>\n",
       "      <th>Back Bay</th>\n",
       "      <th>414419</th>\n",
       "      <td>2017-01-31</td>\n",
       "      <td>t</td>\n",
       "      <td>312</td>\n",
       "      <td>92.0</td>\n",
       "      <td>175.0</td>\n",
       "    </tr>\n",
       "    <tr>\n",
       "      <th>Dorchester</th>\n",
       "      <th>31796</th>\n",
       "      <td>2017-01-31</td>\n",
       "      <td>t</td>\n",
       "      <td>291</td>\n",
       "      <td>87.0</td>\n",
       "      <td>65.0</td>\n",
       "    </tr>\n",
       "    <tr>\n",
       "      <th>North End</th>\n",
       "      <th>815639</th>\n",
       "      <td>2017-01-31</td>\n",
       "      <td>t</td>\n",
       "      <td>281</td>\n",
       "      <td>92.0</td>\n",
       "      <td>125.0</td>\n",
       "    </tr>\n",
       "    <tr>\n",
       "      <th>...</th>\n",
       "      <th>...</th>\n",
       "      <td>...</td>\n",
       "      <td>...</td>\n",
       "      <td>...</td>\n",
       "      <td>...</td>\n",
       "      <td>...</td>\n",
       "    </tr>\n",
       "    <tr>\n",
       "      <th rowspan=\"4\" valign=\"top\">Fenway</th>\n",
       "      <th>2243499</th>\n",
       "      <td>2017-01-31</td>\n",
       "      <td>t</td>\n",
       "      <td>1</td>\n",
       "      <td>80.0</td>\n",
       "      <td>285.0</td>\n",
       "    </tr>\n",
       "    <tr>\n",
       "      <th>4109165</th>\n",
       "      <td>2017-01-31</td>\n",
       "      <td>t</td>\n",
       "      <td>1</td>\n",
       "      <td>80.0</td>\n",
       "      <td>219.0</td>\n",
       "    </tr>\n",
       "    <tr>\n",
       "      <th>4644069</th>\n",
       "      <td>2017-01-31</td>\n",
       "      <td>f</td>\n",
       "      <td>1</td>\n",
       "      <td>100.0</td>\n",
       "      <td>110.0</td>\n",
       "    </tr>\n",
       "    <tr>\n",
       "      <th>6790961</th>\n",
       "      <td>2017-01-31</td>\n",
       "      <td>t</td>\n",
       "      <td>1</td>\n",
       "      <td>100.0</td>\n",
       "      <td>319.0</td>\n",
       "    </tr>\n",
       "    <tr>\n",
       "      <th>West Roxbury</th>\n",
       "      <th>14767573</th>\n",
       "      <td>2017-01-31</td>\n",
       "      <td>t</td>\n",
       "      <td>1</td>\n",
       "      <td>100.0</td>\n",
       "      <td>75.0</td>\n",
       "    </tr>\n",
       "  </tbody>\n",
       "</table>\n",
       "<p>2772 rows × 5 columns</p>\n",
       "</div>"
      ],
      "text/plain": [
       "                                       date  ... price_y\n",
       "neighbourhood_cleansed id                    ...        \n",
       "Mission Hill           66288     2017-01-31  ...    75.0\n",
       "East Boston            1497879   2017-01-31  ...    89.0\n",
       "Back Bay               414419    2017-01-31  ...   175.0\n",
       "Dorchester             31796     2017-01-31  ...    65.0\n",
       "North End              815639    2017-01-31  ...   125.0\n",
       "...                                     ...  ...     ...\n",
       "Fenway                 2243499   2017-01-31  ...   285.0\n",
       "                       4109165   2017-01-31  ...   219.0\n",
       "                       4644069   2017-01-31  ...   110.0\n",
       "                       6790961   2017-01-31  ...   319.0\n",
       "West Roxbury           14767573  2017-01-31  ...    75.0\n",
       "\n",
       "[2772 rows x 5 columns]"
      ]
     },
     "execution_count": 22,
     "metadata": {
      "tags": []
     },
     "output_type": "execute_result"
    }
   ],
   "source": [
    "# Testing for the month of january\n",
    "boston_jan = boston_df_c[(boston_df_c['date'] > '2017-01-01') & (boston_df_c['date'] < '2017-02-01')]\n",
    "boston_jan = boston_jan.groupby(['neighbourhood_cleansed','id'])\n",
    "boston_jan.first().sort_values('number_of_reviews', ascending = False)"
   ]
  },
  {
   "cell_type": "code",
   "execution_count": 0,
   "metadata": {
    "colab": {},
    "colab_type": "code",
    "id": "ZtojD2GrfFlI"
   },
   "outputs": [],
   "source": [
    "# Converting availability into 1 for true and 0 for false, so it is easier to calculate the % of listings available\n",
    "boston_df_c.loc[(boston_df_c.available == 't'),'available']= 1\n",
    "boston_df_c.loc[(boston_df_c.available == 'f'),'available']= 0\n",
    "\n",
    "#Grouping by amount of unique listings, total listings available and the total count of listings with 1/0 value (to compute the availability %)\n",
    "availability_per_neigh = boston_df_c.groupby('neighbourhood_cleansed', as_index = False).agg({'id':pd.Series.nunique, 'available':['sum', 'count']})\n",
    "\n",
    "#Here, I am calculating the % available by dividing the total amount of listings available over the total amount of listings for a particular neighbourhood\n",
    "availability_per_neigh['%_available'] = (availability_per_neigh['available']['sum'] /availability_per_neigh['available']['count']).multiply(100)\n",
    "\n",
    "#Sorting from most to least available\n",
    "availability_per_neigh = availability_per_neigh.sort_values('%_available', ascending = True)"
   ]
  },
  {
   "cell_type": "code",
   "execution_count": 0,
   "metadata": {
    "colab": {
     "base_uri": "https://localhost:8080/",
     "height": 515
    },
    "colab_type": "code",
    "id": "kNdcxSx5nomh",
    "outputId": "f3744e8e-d776-4a7e-936f-b648e4dd7c38"
   },
   "outputs": [
    {
     "data": {
      "text/plain": [
       "Text(0, 0.5, 'Neigbourhood Name')"
      ]
     },
     "execution_count": 24,
     "metadata": {
      "tags": []
     },
     "output_type": "execute_result"
    },
    {
     "data": {
      "image/png": "[encoded data removed]",
      "text/plain": [
       "<Figure size 432x576 with 1 Axes>"
      ]
     },
     "metadata": {
      "tags": []
     },
     "output_type": "display_data"
    }
   ],
   "source": [
    "#Graphing the results for neighbourhood availability for the total year\n",
    "fig_dims = (6, 8)\n",
    "fig, ax = plt.subplots(figsize=fig_dims)\n",
    "y = sns.barplot(y = 'neighbourhood_cleansed', x = '%_available',ax = ax, data = availability_per_neigh)\n",
    "y.set_xlabel(\"% Available Sept. '16 - Sept '17\")\n",
    "y.set_ylabel('Neigbourhood Name')"
   ]
  },
  {
   "cell_type": "code",
   "execution_count": 0,
   "metadata": {
    "colab": {},
    "colab_type": "code",
    "id": "Joy5aSnLClx9"
   },
   "outputs": [],
   "source": [
    "# Knowing the overall availability for our timeframe, I want to find out the availability per month to notice any interesting trends\n",
    "boston_df_c['date'] = pd.to_datetime(boston_df_c['date'],format='%Y-%m-%d') # transform date column to YYYY-MM-DD\n",
    "boston_df_c['month'] = boston_df_c['date'].dt.month \n",
    "boston_df_c['year'] = boston_df_c['date'].dt.year "
   ]
  },
  {
   "cell_type": "code",
   "execution_count": 0,
   "metadata": {
    "colab": {
     "base_uri": "https://localhost:8080/",
     "height": 428
    },
    "colab_type": "code",
    "id": "gwBgqjZ1DMVN",
    "outputId": "05bcb8d4-140f-4bf5-89b2-6830975d4be7"
   },
   "outputs": [
    {
     "data": {
      "text/html": [
       "<div>\n",
       "<style scoped>\n",
       "    .dataframe tbody tr th:only-of-type {\n",
       "        vertical-align: middle;\n",
       "    }\n",
       "\n",
       "    .dataframe tbody tr th {\n",
       "        vertical-align: top;\n",
       "    }\n",
       "\n",
       "    .dataframe thead tr th {\n",
       "        text-align: left;\n",
       "    }\n",
       "</style>\n",
       "<table border=\"1\" class=\"dataframe\">\n",
       "  <thead>\n",
       "    <tr>\n",
       "      <th></th>\n",
       "      <th>month</th>\n",
       "      <th>neighbourhood_cleansed</th>\n",
       "      <th>id</th>\n",
       "      <th colspan=\"2\" halign=\"left\">available</th>\n",
       "      <th>%_available</th>\n",
       "    </tr>\n",
       "    <tr>\n",
       "      <th></th>\n",
       "      <th></th>\n",
       "      <th></th>\n",
       "      <th>nunique</th>\n",
       "      <th>sum</th>\n",
       "      <th>count</th>\n",
       "      <th></th>\n",
       "    </tr>\n",
       "  </thead>\n",
       "  <tbody>\n",
       "    <tr>\n",
       "      <th>0</th>\n",
       "      <td>1</td>\n",
       "      <td>Allston</td>\n",
       "      <td>182</td>\n",
       "      <td>2513</td>\n",
       "      <td>5642</td>\n",
       "      <td>44.540943</td>\n",
       "    </tr>\n",
       "    <tr>\n",
       "      <th>1</th>\n",
       "      <td>1</td>\n",
       "      <td>Back Bay</td>\n",
       "      <td>237</td>\n",
       "      <td>4914</td>\n",
       "      <td>7347</td>\n",
       "      <td>66.884443</td>\n",
       "    </tr>\n",
       "    <tr>\n",
       "      <th>2</th>\n",
       "      <td>1</td>\n",
       "      <td>Bay Village</td>\n",
       "      <td>16</td>\n",
       "      <td>317</td>\n",
       "      <td>496</td>\n",
       "      <td>63.911290</td>\n",
       "    </tr>\n",
       "    <tr>\n",
       "      <th>3</th>\n",
       "      <td>1</td>\n",
       "      <td>Beacon Hill</td>\n",
       "      <td>169</td>\n",
       "      <td>2770</td>\n",
       "      <td>5239</td>\n",
       "      <td>52.872686</td>\n",
       "    </tr>\n",
       "    <tr>\n",
       "      <th>4</th>\n",
       "      <td>1</td>\n",
       "      <td>Brighton</td>\n",
       "      <td>133</td>\n",
       "      <td>2503</td>\n",
       "      <td>4123</td>\n",
       "      <td>60.708222</td>\n",
       "    </tr>\n",
       "    <tr>\n",
       "      <th>...</th>\n",
       "      <td>...</td>\n",
       "      <td>...</td>\n",
       "      <td>...</td>\n",
       "      <td>...</td>\n",
       "      <td>...</td>\n",
       "      <td>...</td>\n",
       "    </tr>\n",
       "    <tr>\n",
       "      <th>295</th>\n",
       "      <td>12</td>\n",
       "      <td>South Boston</td>\n",
       "      <td>153</td>\n",
       "      <td>2904</td>\n",
       "      <td>4743</td>\n",
       "      <td>61.227071</td>\n",
       "    </tr>\n",
       "    <tr>\n",
       "      <th>296</th>\n",
       "      <td>12</td>\n",
       "      <td>South Boston Waterfront</td>\n",
       "      <td>58</td>\n",
       "      <td>1055</td>\n",
       "      <td>1798</td>\n",
       "      <td>58.676307</td>\n",
       "    </tr>\n",
       "    <tr>\n",
       "      <th>297</th>\n",
       "      <td>12</td>\n",
       "      <td>South End</td>\n",
       "      <td>268</td>\n",
       "      <td>4347</td>\n",
       "      <td>8308</td>\n",
       "      <td>52.323062</td>\n",
       "    </tr>\n",
       "    <tr>\n",
       "      <th>298</th>\n",
       "      <td>12</td>\n",
       "      <td>West End</td>\n",
       "      <td>27</td>\n",
       "      <td>651</td>\n",
       "      <td>837</td>\n",
       "      <td>77.777778</td>\n",
       "    </tr>\n",
       "    <tr>\n",
       "      <th>299</th>\n",
       "      <td>12</td>\n",
       "      <td>West Roxbury</td>\n",
       "      <td>33</td>\n",
       "      <td>723</td>\n",
       "      <td>1023</td>\n",
       "      <td>70.674487</td>\n",
       "    </tr>\n",
       "  </tbody>\n",
       "</table>\n",
       "<p>300 rows × 6 columns</p>\n",
       "</div>"
      ],
      "text/plain": [
       "    month   neighbourhood_cleansed      id available       %_available\n",
       "                                   nunique       sum count            \n",
       "0       1                  Allston     182      2513  5642   44.540943\n",
       "1       1                 Back Bay     237      4914  7347   66.884443\n",
       "2       1              Bay Village      16       317   496   63.911290\n",
       "3       1              Beacon Hill     169      2770  5239   52.872686\n",
       "4       1                 Brighton     133      2503  4123   60.708222\n",
       "..    ...                      ...     ...       ...   ...         ...\n",
       "295    12             South Boston     153      2904  4743   61.227071\n",
       "296    12  South Boston Waterfront      58      1055  1798   58.676307\n",
       "297    12                South End     268      4347  8308   52.323062\n",
       "298    12                 West End      27       651   837   77.777778\n",
       "299    12             West Roxbury      33       723  1023   70.674487\n",
       "\n",
       "[300 rows x 6 columns]"
      ]
     },
     "execution_count": 26,
     "metadata": {
      "tags": []
     },
     "output_type": "execute_result"
    }
   ],
   "source": [
    "# Grouping % availability by month and neighbourhood\n",
    "monthly_availability_nb = boston_df_c.groupby(['month','neighbourhood_cleansed'], as_index= False).agg({'id':pd.Series.nunique, 'available':['sum', 'count']})\n",
    "monthly_availability_nb['%_available'] = (monthly_availability_nb['available']['sum'] /monthly_availability_nb['available']['count']).multiply(100)\n",
    "monthly_availability_nb"
   ]
  },
  {
   "cell_type": "code",
   "execution_count": 0,
   "metadata": {
    "colab": {
     "base_uri": "https://localhost:8080/",
     "height": 639
    },
    "colab_type": "code",
    "id": "TeZs6gg2AmBw",
    "outputId": "9f648a75-33c7-4feb-ef85-e2cfe236650b"
   },
   "outputs": [
    {
     "data": {
      "text/plain": [
       "Text(69.0, 0.5, 'Neighbourhood')"
      ]
     },
     "execution_count": 27,
     "metadata": {
      "tags": []
     },
     "output_type": "execute_result"
    },
    {
     "data": {
      "image/png": "[encoded data removed]",
      "text/plain": [
       "<Figure size 720x720 with 2 Axes>"
      ]
     },
     "metadata": {
      "tags": []
     },
     "output_type": "display_data"
    }
   ],
   "source": [
    "# Creating pivot to show the % available for each neighbourhood\n",
    "monthly_heatmap_data = monthly_availability_nb.pivot(index = 'neighbourhood_cleansed', columns= 'month', values = '%_available')\n",
    "\n",
    "# Creating heatmap across neighbourhoods\n",
    "colormap = plt.cm.coolwarm_r\n",
    "\n",
    "plt.subplots(figsize=(10,10))\n",
    "ax = sns.heatmap(monthly_heatmap_data,annot=True, cmap = colormap, vmin= 0, vmax= 100, robust = True)\n",
    "plt.title('Percentage of Listings Available by Month & Neighbourhood')\n",
    "plt.xlabel('Month')\n",
    "plt.ylabel('Neighbourhood')"
   ]
  },
  {
   "cell_type": "markdown",
   "metadata": {
    "colab_type": "text",
    "id": "iQTZsjGQapbh"
   },
   "source": [
    "### Hosts Questions\n",
    "\n",
    "**Host Ratings**\n",
    "\n",
    "* What type of comments are more common based on different types of ratings?\n",
    " * ID, review_scores_rating, comments\n",
    "* What correlates with better ratings, a private room, full apartment, or shared room?\n",
    " * ID, listing_id, room_type, review_scores_rating\n",
    "* What features correlate with higher ratings?\n",
    " * ID, listing_id, review_scores_rating, review_scores_accuracy, review_scores_cleanliness, review_scores_communication"
   ]
  },
  {
   "cell_type": "code",
   "execution_count": 0,
   "metadata": {
    "colab": {
     "base_uri": "https://localhost:8080/",
     "height": 461
    },
    "colab_type": "code",
    "id": "kndyx989bHhH",
    "outputId": "37e474df-d908-43b8-f781-f2febe1c756b"
   },
   "outputs": [
    {
     "name": "stdout",
     "output_type": "stream",
     "text": [
      "<class 'pandas.core.frame.DataFrame'>\n",
      "Int64Index: 67051 entries, 0 to 68274\n",
      "Data columns (total 18 columns):\n",
      " #   Column                          Non-Null Count  Dtype  \n",
      "---  ------                          --------------  -----  \n",
      " 0   listing_id                      67051 non-null  int64  \n",
      " 1   neighbourhood_cleansed          67051 non-null  object \n",
      " 2   price                           67051 non-null  object \n",
      " 3   experiences_offered             67051 non-null  object \n",
      " 4   host_since                      67051 non-null  object \n",
      " 5   host_is_superhost               67051 non-null  object \n",
      " 6   calculated_host_listings_count  67051 non-null  int64  \n",
      " 7   comments                        67051 non-null  object \n",
      " 8   host_response_time              67051 non-null  object \n",
      " 9   host_response_rate              67051 non-null  object \n",
      " 10  number_of_reviews               67051 non-null  int64  \n",
      " 11  review_scores_rating            67051 non-null  float64\n",
      " 12  review_scores_accuracy          67051 non-null  float64\n",
      " 13  review_scores_cleanliness       67051 non-null  float64\n",
      " 14  review_scores_communication     67051 non-null  float64\n",
      " 15  review_scores_location          67051 non-null  float64\n",
      " 16  review_scores_checkin           67051 non-null  float64\n",
      " 17  review_scores_value             67051 non-null  float64\n",
      "dtypes: float64(7), int64(3), object(8)\n",
      "memory usage: 9.7+ MB\n"
     ]
    }
   ],
   "source": [
    "hosts_df_c.info()"
   ]
  },
  {
   "cell_type": "code",
   "execution_count": 0,
   "metadata": {
    "colab": {
     "base_uri": "https://localhost:8080/",
     "height": 230
    },
    "colab_type": "code",
    "id": "L-CnbVEXG_xZ",
    "outputId": "e9a0580d-24f5-42d2-d2fd-854d61962dd1"
   },
   "outputs": [
    {
     "data": {
      "text/plain": [
       "0        65.0\n",
       "1        65.0\n",
       "2        65.0\n",
       "3        65.0\n",
       "4        65.0\n",
       "         ... \n",
       "68270    69.0\n",
       "68271    69.0\n",
       "68272    69.0\n",
       "68273    65.0\n",
       "68274    65.0\n",
       "Name: price, Length: 67051, dtype: float64"
      ]
     },
     "execution_count": 29,
     "metadata": {
      "tags": []
     },
     "output_type": "execute_result"
    }
   ],
   "source": [
    "# Converting price_y column to float\n",
    "hosts_df_c['price'] = hosts_df_c['price'].replace('[\\$,]','', regex=True).astype(float)\n",
    "hosts_df_c.price"
   ]
  },
  {
   "cell_type": "markdown",
   "metadata": {
    "colab_type": "text",
    "id": "OODCw5cvxUF4"
   },
   "source": [
    "#### What makes a superhost?\n",
    "Columns used: ID, listing_id, experiences_offered, host_since, host_is_superhost, neighbourhood_cleansed, review_scores (rating, accuracy, cleanliness, check-in, communication, location, value)"
   ]
  },
  {
   "cell_type": "markdown",
   "metadata": {
    "colab_type": "text",
    "id": "T9drCZdRuf70"
   },
   "source": [
    "**Creating two functions to clean the data, create dummy variables and calculate the weight of each coefficient.**"
   ]
  },
  {
   "cell_type": "code",
   "execution_count": 0,
   "metadata": {
    "colab": {},
    "colab_type": "code",
    "id": "Ah0RtxqbxXl_"
   },
   "outputs": [],
   "source": [
    "def clean_data(df, response_var):\n",
    "    '''\n",
    "    INPUT\n",
    "    df - pandas dataframe\n",
    "    response_var - response variable \n",
    "    \n",
    "    OUTPUT\n",
    "    X - A matrix holding all of the variables you want to consider when predicting the response\n",
    "    y - the corresponding response vector\n",
    "    \n",
    "    This function cleans df using the following steps to produce X and y:\n",
    "    1. Drop all the rows with no reviews\n",
    "    2. Create X as all the columns that are not the reviews column\n",
    "    3. Create y as the reviews column\n",
    "    4. For each numeric variable in X, fill the column with the mean value of the column.\n",
    "    5. Create dummy columns for all the categorical variables in X, drop the original columns\n",
    "    '''\n",
    "    # Drop rows with missing values\n",
    "    df = df.dropna(subset=[response_var], axis=0)\n",
    "\n",
    "    # Check if the variable is categorical or numerical\n",
    "    if (df[response_var].dtype == 'O') == True:\n",
    "      y = pd.get_dummies(df[response_var], prefix= response_var, prefix_sep='_')\n",
    "    else:\n",
    "      y = df[response_var]\n",
    "\n",
    "    #Drop respondent columns\n",
    "    df = df.drop([response_var], axis=1)\n",
    "    \n",
    "    # Fill numeric columns with the mean\n",
    "    num_vars = df.select_dtypes(include=['float', 'int']).columns\n",
    "    for col in num_vars:\n",
    "        df[col].fillna((df[col].mean()), inplace=True)\n",
    "        \n",
    "    # Dummy the categorical variables\n",
    "    cat_vars = df.select_dtypes(include=['object']).copy().columns\n",
    "    for var in  cat_vars:\n",
    "        # for each cat add dummy var, drop original column\n",
    "        df = pd.concat([df.drop(var, axis=1), pd.get_dummies(df[var], prefix=var, prefix_sep='_', drop_first=True)], axis=1)\n",
    "    \n",
    "    X = df\n",
    "    return X, y    "
   ]
  },
  {
   "cell_type": "code",
   "execution_count": 0,
   "metadata": {
    "colab": {},
    "colab_type": "code",
    "id": "gGSNNGBUU2k9"
   },
   "outputs": [],
   "source": [
    "def coef_weights(coefficients, X_train):\n",
    "    '''\n",
    "    INPUT:\n",
    "    coefficients - the coefficients of the linear model \n",
    "    X_train - the training data, so the column names can be used\n",
    "    OUTPUT:\n",
    "    coefs_df - a dataframe holding the coefficient, estimate, and abs(estimate)\n",
    "    \n",
    "    Provides a dataframe that can be used to understand the most influential coefficients\n",
    "    in a linear model by providing the coefficient estimates along with the name of the \n",
    "    variable attached to the coefficient.\n",
    "    '''\n",
    "    coefs_df = pd.DataFrame()\n",
    "    coefs_df['est_int'] = X_train.columns\n",
    "    coefs_df['coefs'] = lm_model.coef_\n",
    "    coefs_df['abs_coefs'] = np.abs(lm_model.coef_)\n",
    "    coefs_df = coefs_df.sort_values('abs_coefs', ascending=False)\n",
    "    return coefs_df"
   ]
  },
  {
   "cell_type": "code",
   "execution_count": 0,
   "metadata": {
    "colab": {
     "base_uri": "https://localhost:8080/",
     "height": 159
    },
    "colab_type": "code",
    "id": "n71NmPBFxW4d",
    "outputId": "4a1171d3-6d9d-4283-ffa6-0744c63edd44"
   },
   "outputs": [
    {
     "data": {
      "text/plain": [
       "Index(['listing_id', 'neighbourhood_cleansed', 'price', 'experiences_offered',\n",
       "       'host_since', 'host_is_superhost', 'calculated_host_listings_count',\n",
       "       'comments', 'host_response_time', 'host_response_rate',\n",
       "       'number_of_reviews', 'review_scores_rating', 'review_scores_accuracy',\n",
       "       'review_scores_cleanliness', 'review_scores_communication',\n",
       "       'review_scores_location', 'review_scores_checkin',\n",
       "       'review_scores_value', 'quantile_ex_1', 'quantile_ex_2'],\n",
       "      dtype='object')"
      ]
     },
     "execution_count": 35,
     "metadata": {
      "tags": []
     },
     "output_type": "execute_result"
    }
   ],
   "source": [
    "# Let's see which columns can we use for our predictive model\n",
    "hosts_df_c.columns"
   ]
  },
  {
   "cell_type": "code",
   "execution_count": 0,
   "metadata": {
    "colab": {
     "base_uri": "https://localhost:8080/",
     "height": 337
    },
    "colab_type": "code",
    "id": "syzg1AuIszwf",
    "outputId": "fc41ab5c-1651-48ba-9919-c006f756ff67"
   },
   "outputs": [
    {
     "name": "stdout",
     "output_type": "stream",
     "text": [
      "<class 'pandas.core.frame.DataFrame'>\n",
      "Int64Index: 67051 entries, 0 to 68274\n",
      "Data columns (total 11 columns):\n",
      " #   Column                          Non-Null Count  Dtype  \n",
      "---  ------                          --------------  -----  \n",
      " 0   price                           67051 non-null  float64\n",
      " 1   host_is_superhost               67051 non-null  int64  \n",
      " 2   calculated_host_listings_count  67051 non-null  int64  \n",
      " 3   number_of_reviews               67051 non-null  int64  \n",
      " 4   review_scores_rating            67051 non-null  float64\n",
      " 5   review_scores_accuracy          67051 non-null  float64\n",
      " 6   review_scores_cleanliness       67051 non-null  float64\n",
      " 7   review_scores_communication     67051 non-null  float64\n",
      " 8   review_scores_location          67051 non-null  float64\n",
      " 9   review_scores_checkin           67051 non-null  float64\n",
      " 10  review_scores_value             67051 non-null  float64\n",
      "dtypes: float64(8), int64(3)\n",
      "memory usage: 6.1 MB\n"
     ]
    }
   ],
   "source": [
    "#First, we will remove the columns that will obscure our results\n",
    "super_host_df = hosts_df_c.drop(columns = ['experiences_offered','comments','listing_id','host_response_time','host_response_rate','host_since','neighbourhood_cleansed','quantile_ex_1','quantile_ex_2'])\n",
    "\n",
    "#Converting host_is_superhost column to either 1 for true or 0 for false to allow for our predictions\n",
    "super_host_df.loc[(super_host_df.host_is_superhost == 't'),'host_is_superhost']= 1\n",
    "super_host_df.loc[(super_host_df.host_is_superhost == 'f'),'host_is_superhost']= 0\n",
    "super_host_df.host_is_superhost = super_host_df.host_is_superhost.apply(pd.to_numeric) \n",
    "\n",
    "super_host_df.info()"
   ]
  },
  {
   "cell_type": "code",
   "execution_count": 0,
   "metadata": {
    "colab": {},
    "colab_type": "code",
    "id": "ruMUV2m5vF-q"
   },
   "outputs": [],
   "source": [
    "# Creating X and y for our hosts dataframe:\n",
    "X,y = clean_data(super_host_df, 'host_is_superhost')"
   ]
  },
  {
   "cell_type": "code",
   "execution_count": 0,
   "metadata": {
    "colab": {},
    "colab_type": "code",
    "id": "HOBGkIdqvYk8"
   },
   "outputs": [],
   "source": [
    "#Split into train and test\n",
    "X_train, X_test, y_train, y_test = train_test_split(X, y, test_size=.3, random_state=42)\n",
    "\n",
    "mlr = LinearRegression(normalize= True)\n",
    "mlr.fit(X_train, y_train) #Fit\n",
    "\n",
    "#Predict using your model\n",
    "y_test_preds = mlr.predict(X_test)\n",
    "y_train_preds = mlr.predict(X_train)\n",
    "\n",
    "#Score using your model\n",
    "test_score = r2_score(y_test, y_test_preds)\n",
    "train_score = r2_score(y_train, y_train_preds)"
   ]
  },
  {
   "cell_type": "code",
   "execution_count": 0,
   "metadata": {
    "colab": {
     "base_uri": "https://localhost:8080/",
     "height": 35
    },
    "colab_type": "code",
    "id": "YU7avu_Vyaf4",
    "outputId": "1defc2a4-96b3-4a14-b579-016fd0139a32"
   },
   "outputs": [
    {
     "name": "stdout",
     "output_type": "stream",
     "text": [
      "The rsquared on the training data was 0.28397016164936095.  The rsquared on the test data was 0.2766416767719414.\n"
     ]
    }
   ],
   "source": [
    "#Print training and testing score\n",
    "print(\"The rsquared on the training data was {}.  The rsquared on the test data was {}.\".format(train_score, test_score))"
   ]
  },
  {
   "cell_type": "code",
   "execution_count": 0,
   "metadata": {
    "colab": {
     "base_uri": "https://localhost:8080/",
     "height": 35
    },
    "colab_type": "code",
    "id": "F66JXeLhygwo",
    "outputId": "0eb3acf0-b4d0-4537-884f-15f12c4e7ac9"
   },
   "outputs": [
    {
     "name": "stdout",
     "output_type": "stream",
     "text": [
      "10\n"
     ]
    }
   ],
   "source": [
    "print(X_train.shape[1]) #Number of columns"
   ]
  },
  {
   "cell_type": "code",
   "execution_count": 0,
   "metadata": {
    "colab": {
     "base_uri": "https://localhost:8080/",
     "height": 340
    },
    "colab_type": "code",
    "id": "AEv4XB4614o1",
    "outputId": "c63435aa-238d-4f35-dda6-826852a618e0"
   },
   "outputs": [
    {
     "data": {
      "text/html": [
       "<div>\n",
       "<style scoped>\n",
       "    .dataframe tbody tr th:only-of-type {\n",
       "        vertical-align: middle;\n",
       "    }\n",
       "\n",
       "    .dataframe tbody tr th {\n",
       "        vertical-align: top;\n",
       "    }\n",
       "\n",
       "    .dataframe thead th {\n",
       "        text-align: right;\n",
       "    }\n",
       "</style>\n",
       "<table border=\"1\" class=\"dataframe\">\n",
       "  <thead>\n",
       "    <tr style=\"text-align: right;\">\n",
       "      <th></th>\n",
       "      <th>coefs</th>\n",
       "      <th>est_int</th>\n",
       "    </tr>\n",
       "  </thead>\n",
       "  <tbody>\n",
       "    <tr>\n",
       "      <th>9</th>\n",
       "      <td>review_scores_value</td>\n",
       "      <td>0.173523</td>\n",
       "    </tr>\n",
       "    <tr>\n",
       "      <th>4</th>\n",
       "      <td>review_scores_accuracy</td>\n",
       "      <td>0.066239</td>\n",
       "    </tr>\n",
       "    <tr>\n",
       "      <th>6</th>\n",
       "      <td>review_scores_communication</td>\n",
       "      <td>0.032509</td>\n",
       "    </tr>\n",
       "    <tr>\n",
       "      <th>7</th>\n",
       "      <td>review_scores_location</td>\n",
       "      <td>0.028808</td>\n",
       "    </tr>\n",
       "    <tr>\n",
       "      <th>3</th>\n",
       "      <td>review_scores_rating</td>\n",
       "      <td>0.015726</td>\n",
       "    </tr>\n",
       "    <tr>\n",
       "      <th>5</th>\n",
       "      <td>review_scores_cleanliness</td>\n",
       "      <td>0.011967</td>\n",
       "    </tr>\n",
       "    <tr>\n",
       "      <th>2</th>\n",
       "      <td>number_of_reviews</td>\n",
       "      <td>0.000809</td>\n",
       "    </tr>\n",
       "    <tr>\n",
       "      <th>1</th>\n",
       "      <td>calculated_host_listings_count</td>\n",
       "      <td>0.000459</td>\n",
       "    </tr>\n",
       "    <tr>\n",
       "      <th>0</th>\n",
       "      <td>price</td>\n",
       "      <td>-0.000033</td>\n",
       "    </tr>\n",
       "    <tr>\n",
       "      <th>8</th>\n",
       "      <td>review_scores_checkin</td>\n",
       "      <td>-0.045093</td>\n",
       "    </tr>\n",
       "  </tbody>\n",
       "</table>\n",
       "</div>"
      ],
      "text/plain": [
       "                            coefs   est_int\n",
       "9             review_scores_value  0.173523\n",
       "4          review_scores_accuracy  0.066239\n",
       "6     review_scores_communication  0.032509\n",
       "7          review_scores_location  0.028808\n",
       "3            review_scores_rating  0.015726\n",
       "5       review_scores_cleanliness  0.011967\n",
       "2               number_of_reviews  0.000809\n",
       "1  calculated_host_listings_count  0.000459\n",
       "0                           price -0.000033\n",
       "8           review_scores_checkin -0.045093"
      ]
     },
     "execution_count": 41,
     "metadata": {
      "tags": []
     },
     "output_type": "execute_result"
    }
   ],
   "source": [
    "# Creating a table of the influencing coefficients to become a \"super host\"\n",
    "coefs_df = pd.DataFrame()\n",
    "coefs_df['coefs'] = X_train.columns\n",
    "test = mlr.coef_\n",
    "coefs_df['est_int'] = test[:]\n",
    "coefs_df.sort_values(by = 'est_int', ascending = False)"
   ]
  },
  {
   "cell_type": "markdown",
   "metadata": {
    "colab_type": "text",
    "id": "F6ru1BBJxYdl"
   },
   "source": [
    "#### Which features correlate with higher ratings?"
   ]
  },
  {
   "cell_type": "code",
   "execution_count": 0,
   "metadata": {
    "colab": {
     "base_uri": "https://localhost:8080/",
     "height": 159
    },
    "colab_type": "code",
    "id": "EysAdo7HWRFU",
    "outputId": "70f5e20a-0491-4416-e344-d157104de821"
   },
   "outputs": [
    {
     "data": {
      "text/plain": [
       "Index(['listing_id', 'neighbourhood_cleansed', 'price', 'experiences_offered',\n",
       "       'host_since', 'host_is_superhost', 'calculated_host_listings_count',\n",
       "       'comments', 'host_response_time', 'host_response_rate',\n",
       "       'number_of_reviews', 'review_scores_rating', 'review_scores_accuracy',\n",
       "       'review_scores_cleanliness', 'review_scores_communication',\n",
       "       'review_scores_location', 'review_scores_checkin',\n",
       "       'review_scores_value', 'quantile_ex_1', 'quantile_ex_2'],\n",
       "      dtype='object')"
      ]
     },
     "execution_count": 42,
     "metadata": {
      "tags": []
     },
     "output_type": "execute_result"
    }
   ],
   "source": [
    "# Let's see which columns can we use for our predictive model\n",
    "hosts_df_c.columns"
   ]
  },
  {
   "cell_type": "code",
   "execution_count": 0,
   "metadata": {
    "colab": {
     "base_uri": "https://localhost:8080/",
     "height": 214
    },
    "colab_type": "code",
    "id": "Z4yC72JnTbkv",
    "outputId": "c8c37899-a562-49a9-b2bd-97623edcb1d6"
   },
   "outputs": [
    {
     "data": {
      "text/html": [
       "<div>\n",
       "<style scoped>\n",
       "    .dataframe tbody tr th:only-of-type {\n",
       "        vertical-align: middle;\n",
       "    }\n",
       "\n",
       "    .dataframe tbody tr th {\n",
       "        vertical-align: top;\n",
       "    }\n",
       "\n",
       "    .dataframe thead th {\n",
       "        text-align: right;\n",
       "    }\n",
       "</style>\n",
       "<table border=\"1\" class=\"dataframe\">\n",
       "  <thead>\n",
       "    <tr style=\"text-align: right;\">\n",
       "      <th></th>\n",
       "      <th>price</th>\n",
       "      <th>calculated_host_listings_count</th>\n",
       "      <th>number_of_reviews</th>\n",
       "      <th>review_scores_rating</th>\n",
       "      <th>review_scores_accuracy</th>\n",
       "      <th>review_scores_cleanliness</th>\n",
       "      <th>review_scores_communication</th>\n",
       "      <th>review_scores_location</th>\n",
       "      <th>review_scores_checkin</th>\n",
       "      <th>review_scores_value</th>\n",
       "    </tr>\n",
       "  </thead>\n",
       "  <tbody>\n",
       "    <tr>\n",
       "      <th>0</th>\n",
       "      <td>65.0</td>\n",
       "      <td>1</td>\n",
       "      <td>36</td>\n",
       "      <td>94.0</td>\n",
       "      <td>10.0</td>\n",
       "      <td>9.0</td>\n",
       "      <td>10.0</td>\n",
       "      <td>9.0</td>\n",
       "      <td>10.0</td>\n",
       "      <td>9.0</td>\n",
       "    </tr>\n",
       "    <tr>\n",
       "      <th>1</th>\n",
       "      <td>65.0</td>\n",
       "      <td>1</td>\n",
       "      <td>36</td>\n",
       "      <td>94.0</td>\n",
       "      <td>10.0</td>\n",
       "      <td>9.0</td>\n",
       "      <td>10.0</td>\n",
       "      <td>9.0</td>\n",
       "      <td>10.0</td>\n",
       "      <td>9.0</td>\n",
       "    </tr>\n",
       "    <tr>\n",
       "      <th>2</th>\n",
       "      <td>65.0</td>\n",
       "      <td>1</td>\n",
       "      <td>36</td>\n",
       "      <td>94.0</td>\n",
       "      <td>10.0</td>\n",
       "      <td>9.0</td>\n",
       "      <td>10.0</td>\n",
       "      <td>9.0</td>\n",
       "      <td>10.0</td>\n",
       "      <td>9.0</td>\n",
       "    </tr>\n",
       "    <tr>\n",
       "      <th>3</th>\n",
       "      <td>65.0</td>\n",
       "      <td>1</td>\n",
       "      <td>36</td>\n",
       "      <td>94.0</td>\n",
       "      <td>10.0</td>\n",
       "      <td>9.0</td>\n",
       "      <td>10.0</td>\n",
       "      <td>9.0</td>\n",
       "      <td>10.0</td>\n",
       "      <td>9.0</td>\n",
       "    </tr>\n",
       "    <tr>\n",
       "      <th>4</th>\n",
       "      <td>65.0</td>\n",
       "      <td>1</td>\n",
       "      <td>36</td>\n",
       "      <td>94.0</td>\n",
       "      <td>10.0</td>\n",
       "      <td>9.0</td>\n",
       "      <td>10.0</td>\n",
       "      <td>9.0</td>\n",
       "      <td>10.0</td>\n",
       "      <td>9.0</td>\n",
       "    </tr>\n",
       "  </tbody>\n",
       "</table>\n",
       "</div>"
      ],
      "text/plain": [
       "   price  ...  review_scores_value\n",
       "0   65.0  ...                  9.0\n",
       "1   65.0  ...                  9.0\n",
       "2   65.0  ...                  9.0\n",
       "3   65.0  ...                  9.0\n",
       "4   65.0  ...                  9.0\n",
       "\n",
       "[5 rows x 10 columns]"
      ]
     },
     "execution_count": 43,
     "metadata": {
      "tags": []
     },
     "output_type": "execute_result"
    }
   ],
   "source": [
    "#First, we will remove the columns that will obscure our results\n",
    "hosts_df_c_model = hosts_df_c.drop(columns = ['experiences_offered','comments','listing_id','host_response_time','host_response_rate','host_since','host_is_superhost','neighbourhood_cleansed','quantile_ex_1','quantile_ex_2'])\n",
    "\n",
    "hosts_df_c_model.head()"
   ]
  },
  {
   "cell_type": "code",
   "execution_count": 0,
   "metadata": {
    "colab": {},
    "colab_type": "code",
    "id": "ToqtELf6yx5J"
   },
   "outputs": [],
   "source": [
    "# Creating X and y for our hosts dataframe:\n",
    "X_2,y_2 = clean_data(hosts_df_c_model, 'review_scores_rating')"
   ]
  },
  {
   "cell_type": "code",
   "execution_count": 0,
   "metadata": {
    "colab": {},
    "colab_type": "code",
    "id": "JfDsZXnvQNG1"
   },
   "outputs": [],
   "source": [
    "#Split into train and test\n",
    "X_train_2, X_test_2, y_train_2, y_test_2 = train_test_split(X_2, y_2, test_size=.3, random_state=42)\n",
    "\n",
    "lm_model = LinearRegression(normalize=True) # Instantiate\n",
    "lm_model.fit(X_train_2, y_train_2) #Fit\n",
    "\n",
    "#Predict using your model\n",
    "y_test_preds_2 = lm_model.predict(X_test_2)\n",
    "y_train_preds_2 = lm_model.predict(X_train_2)\n",
    "\n",
    "#Score using your model\n",
    "test_score_2 = r2_score(y_test_2, y_test_preds_2)\n",
    "train_score_2 = r2_score(y_train_2, y_train_preds_2)"
   ]
  },
  {
   "cell_type": "code",
   "execution_count": 0,
   "metadata": {
    "colab": {
     "base_uri": "https://localhost:8080/",
     "height": 35
    },
    "colab_type": "code",
    "id": "7JkkWKaaVvep",
    "outputId": "b4ebc2db-566b-4cde-edc5-648d4efa5e4d"
   },
   "outputs": [
    {
     "name": "stdout",
     "output_type": "stream",
     "text": [
      "The rsquared on the training data was 0.8427427220476394.  The rsquared on the test data was 0.8505942474034918.\n"
     ]
    }
   ],
   "source": [
    "#Print training and testing score\n",
    "print(\"The rsquared on the training data was {}.  The rsquared on the test data was {}.\".format(train_score_2, test_score_2))"
   ]
  },
  {
   "cell_type": "code",
   "execution_count": 0,
   "metadata": {
    "colab": {
     "base_uri": "https://localhost:8080/",
     "height": 35
    },
    "colab_type": "code",
    "id": "3uZo7eRIU66r",
    "outputId": "94e7b2f2-360e-4d6d-dfab-01097b22ee46"
   },
   "outputs": [
    {
     "name": "stdout",
     "output_type": "stream",
     "text": [
      "9\n"
     ]
    }
   ],
   "source": [
    "print(X_train_2.shape[1]) #Number of columns"
   ]
  },
  {
   "cell_type": "code",
   "execution_count": 0,
   "metadata": {
    "colab": {
     "base_uri": "https://localhost:8080/",
     "height": 406
    },
    "colab_type": "code",
    "id": "Sb4okN1uUiPc",
    "outputId": "425da8c4-eff6-4bda-9640-b9a7942fb823"
   },
   "outputs": [
    {
     "data": {
      "text/plain": [
       "Text(0, 0.5, 'Influencing Factors')"
      ]
     },
     "execution_count": 48,
     "metadata": {
      "tags": []
     },
     "output_type": "execute_result"
    },
    {
     "data": {
      "image/png": "[encoded data removed]",
      "text/plain": [
       "<Figure size 432x432 with 1 Axes>"
      ]
     },
     "metadata": {
      "tags": []
     },
     "output_type": "display_data"
    }
   ],
   "source": [
    "#Use the function\n",
    "coef_df_2 = coef_weights(mlr.coef_, X_train_2)\n",
    "\n",
    "#A quick look at the top results\n",
    "coef_df_2.sort_values('coefs', ascending = False)\n",
    "\n",
    "#Re-setting index\n",
    "coef_df_2 = coef_df_2.set_index('est_int')\n",
    "\n",
    "#Changing the index names\n",
    "coef_df_2 = coef_df_2.rename(index = {'review_scores_value': 'Value', 'review_scores_cleanliness':\n",
    "                          'Cleanliness','review_scores_accuracy':'Accuracy','review_scores_checkin':'Check-in'\n",
    "                          , 'review_scores_communication': 'Communication', 'review_scores_location': 'Location',\n",
    "                          'price':'Listing Price','calculated_host_listings_count': '# of Host Listings', \n",
    "                          'number_of_reviews':'Number of Reviews'})\n",
    "\n",
    "#Plotting the variables versus the absolute coefficients\n",
    "fig_dims = (6, 6)\n",
    "fig, ax = plt.subplots(figsize=fig_dims)\n",
    "y = sns.barplot(y = coef_df_2.index, x = 'abs_coefs',ax = ax, data = coef_df_2)\n",
    "y.set_xlabel(\"Increase in Ratings\")\n",
    "y.set_ylabel('Influencing Factors')"
   ]
  },
  {
   "cell_type": "code",
   "execution_count": 0,
   "metadata": {
    "colab": {},
    "colab_type": "code",
    "id": "FR_NqOg8WhYO"
   },
   "outputs": [],
   "source": []
  },
  {
   "cell_type": "markdown",
   "metadata": {
    "colab_type": "text",
    "id": "bMby6LIYd6Uj"
   },
   "source": [
    "From a quick look, it seems that the features that most highly correlate with better ratings are value and accuracy of the listing. While the ones that negatively impact it are whether the listing is located in Downtown or Chinatown."
   ]
  },
  {
   "cell_type": "code",
   "execution_count": 0,
   "metadata": {
    "colab": {},
    "colab_type": "code",
    "id": "ZIyKlIPpTvf4"
   },
   "outputs": [],
   "source": []
  }
 ],
 "metadata": {
  "colab": {
   "authorship_tag": "ABX9TyMh16alYVeUV04Rs8LHV6Uq",
   "collapsed_sections": [],
   "include_colab_link": true,
   "machine_shape": "hm",
   "name": "Project_1_Boston_Airbnb v2.ipynb",
   "provenance": []
  },
  "kernelspec": {
   "display_name": "Python 3",
   "language": "python",
   "name": "python3"
  },
  "language_info": {
   "codemirror_mode": {
    "name": "ipython",
    "version": 3
   },
   "file_extension": ".py",
   "mimetype": "text/x-python",
   "name": "python",
   "nbconvert_exporter": "python",
   "pygments_lexer": "ipython3",
   "version": "3.7.0"
  }
 },
 "nbformat": 4,
 "nbformat_minor": 1
}
